{
 "cells": [
  {
   "cell_type": "code",
   "execution_count": null,
   "id": "511153d8-51c2-43b8-8e4b-b100c9767b4c",
   "metadata": {},
   "outputs": [],
   "source": [
    "import os\n",
    "import warnings\n",
    "from pathlib import Path\n",
    "\n",
    "import matplotlib.pyplot as plt\n",
    "import numpy as np\n",
    "import pandas as pd\n",
    "import scipy\n",
    "import seaborn as sns\n",
    "from IPython.display import display\n",
    "from pandas.api.types import CategoricalDtype\n",
    "\n",
    "from sklearn.preprocessing import LabelEncoder\n",
    "\n",
    "\n",
    "# Set Matplotlib defaults\n",
    "plt.style.use(\"seaborn-v0_8-darkgrid\")\n",
    "plt.rc(\"figure\", autolayout=True)\n",
    "plt.rc(\n",
    "    \"axes\",\n",
    "    labelweight=\"bold\",\n",
    "    labelsize=\"large\",\n",
    "    titleweight=\"bold\",\n",
    "    titlesize=14,\n",
    "    titlepad=10,\n",
    ")\n",
    "\n",
    "# Mute warnings\n",
    "warnings.filterwarnings('ignore')"
   ]
  },
  {
   "cell_type": "code",
   "execution_count": null,
   "id": "5123d939-fb0f-4017-a57b-ec5ce158edef",
   "metadata": {},
   "outputs": [],
   "source": [
    "def load_data():\n",
    "    # Read data\n",
    "    data_dir = Path(\"C:/ACTUAL_FOLDERS/Jupyter_Projects/Titanic_Competition/Titanic_Competition\") # Replace with wherever you have your data\n",
    "    df_train = pd.read_csv(data_dir / \"train.csv\", index_col=\"PassengerId\")\n",
    "    df_test = pd.read_csv(data_dir / \"test.csv\", index_col=\"PassengerId\")\n",
    "\n",
    "    # Preprocessing\n",
    "    df_train = clean(df_train)\n",
    "    df_train = impute(df_train)\n",
    "    df_train = deal_with_cabin(df_train)\n",
    "\n",
    "    # Binning & Encoding - Make into separate step if this gets any longer\n",
    "    df_train['Fare'] = pd.qcut(df_train['Fare'], 12) # Binning Fare as looking at fare otherwise is very difficult to read\n",
    "    df_train['Fare'] = LabelEncoder().fit_transform(df_train['Fare']) # Label encoding Fare\n",
    "    df_train = pd.get_dummies(df_train, columns=['Sex', 'Embarked', 'Cabin_Letter'], drop_first = True)\n",
    "    df_train['Age'] = pd.qcut(df_train['Age'], 10) # Binning Age as there exist distinct groupings\n",
    "    df_train['Age'] = LabelEncoder().fit_transform(df_train['Age']) # Label encoding Age\n",
    "    \n",
    "    df_test = clean(df_test)\n",
    "    df_test = impute(df_test)\n",
    "    df_test = deal_with_cabin(df_test)\n",
    "    \n",
    "    # Binning & Encoding\n",
    "    df_test['Fare'] = pd.qcut(df_test['Fare'], 12) # Binning Fare as looking at fare otherwise is very difficult to read\n",
    "    df_test['Fare'] = LabelEncoder().fit_transform(df_test['Fare']) # Label encoding Fare\n",
    "    df_test['Age'] = pd.qcut(df_test['Age'], 10) # Binning Age as there exist distinct groupings\n",
    "    df_test['Age'] = LabelEncoder().fit_transform(df_test['Age']) # Label encoding Age\n",
    "    df_test = pd.get_dummies(df_test, columns=['Sex', 'Embarked', 'Cabin_Letter'], drop_first = True)\n",
    "    \n",
    "    return df_train, df_test"
   ]
  },
  {
   "cell_type": "code",
   "execution_count": null,
   "id": "6814ce00-327e-4847-8e97-fe327bd39669",
   "metadata": {},
   "outputs": [],
   "source": [
    "data_dir = Path(\"C:/ACTUAL_FOLDERS/Jupyter_Projects/Titanic_Competition/Titanic_Competition\")\n",
    "df = pd.read_csv(data_dir / \"train.csv\", index_col=\"PassengerId\")\n",
    "\n",
    "df.select_dtypes(include=['object']) # 5 cat columns\n",
    "\n",
    "# Take a look at the listed cat columns\n",
    "cols = df.columns\n",
    "df_num_cols = df._get_numeric_data().columns\n",
    "cat_cols = list(set(cols) - set(df_num_cols))\n",
    "cat_cols\n",
    "# Drop name, can't conceive of a way that's going to be relevant to survival"
   ]
  },
  {
   "cell_type": "code",
   "execution_count": null,
   "id": "13fb5758-e6b5-4219-94c4-ee3734712f50",
   "metadata": {},
   "outputs": [],
   "source": [
    "# Identify missing data\n",
    "missing_data = df.isnull().sum()\n",
    "# List columns with missing data & how many rows in each one is missing data\n",
    "print(missing_data[missing_data > 0]) # Data missing from Age, Cabin, Embarked\n",
    "\n",
    "# With well over half of Cabin missing & it being a categorical column with unique categories for every passenger, removing it is tempting.\n",
    "# That said, could split Cabin entries up into letter & # to get location categories, which is undoubtedly very relevant.\n",
    "# Further looking into this has revealed that the first Letter of cabin relates to a section of the ship.\n",
    "\n",
    "# The missing Embarked values can be imputed with the mode, sometimes ticket number includes location but not for either missing values here\n",
    "\n",
    "# Missing Age.. not sure. Mode again? It'll probably be related to other columns, look into that."
   ]
  },
  {
   "cell_type": "code",
   "execution_count": null,
   "id": "2dc282ac-8d2a-4f8a-9033-f9c6b336df8b",
   "metadata": {},
   "outputs": [],
   "source": [
    "# Check for category typos\n",
    "#df.Sex.unique() # No typos\n",
    "#df.Embarked.unique() # No typos\n",
    "#df.Ticket.unique() # Naturally, tickets are unique. From this we can see that many tickets aren't simply numbers however, but also include letters that sometimes relate to point of embarkation."
   ]
  },
  {
   "cell_type": "code",
   "execution_count": null,
   "id": "f980e8aa-7c32-4ccb-8471-89fd4581c878",
   "metadata": {
    "scrolled": true
   },
   "outputs": [],
   "source": [
    "# Investigate correlation between numeric values\n",
    "def corrplot(df, method=\"pearson\", annot=True, **kwargs):\n",
    "    sns.clustermap(\n",
    "        df.corr(method, numeric_only=True),\n",
    "        vmin=-1.0,\n",
    "        vmax=1.0,\n",
    "        cmap=\"icefire\",\n",
    "        method=\"complete\",\n",
    "        annot=annot,\n",
    "        **kwargs,\n",
    "    )\n",
    "\n",
    "\n",
    "corrplot(df, annot=None)\n",
    "\n",
    "# From this we can see that age most strongly interacts with class, suggesting that missing age values should be tied to class\n",
    "# We can also see that Fare is related to Parch & SibSp"
   ]
  },
  {
   "cell_type": "code",
   "execution_count": null,
   "id": "6010fe05-ec30-45a6-b923-fd55762da306",
   "metadata": {},
   "outputs": [],
   "source": [
    "sns.barplot(data=df, x='Sex', y='Pclass') # A higher ratio of men with higher class tickets than women, though not by much\n",
    "plt.show()\n",
    "\n",
    "sns.barplot(data=df, x='Sex', y='Age') # A higher ratio of men are older\n",
    "plt.show()\n",
    "\n",
    "sns.boxplot(data=df, x='Survived', y= 'Age', hue='Pclass') # Older age is strongly correlated with higher class tickets, younger age is associated with survival\n",
    "plt.show()\n",
    "\n",
    "sns.boxplot(data=df, x='Survived', y= 'Age', hue='Sex') # Slightly more women than men survived. Surviving women were older than dead women. Surviving men were younger than dead men.\n",
    "plt.show()\n",
    "\n",
    "fig, axs = plt.subplots(figsize=(22, 9))\n",
    "sns.countplot(data=df, x='Fare', hue='Survived') # Unreadable.. bin in load_data\n",
    "plt.show()"
   ]
  },
  {
   "cell_type": "code",
   "execution_count": null,
   "id": "c0f6304d-fecd-4a1c-ac32-5e78f0e6a1c9",
   "metadata": {},
   "outputs": [],
   "source": [
    "def clean(df):\n",
    "    \n",
    "    return df"
   ]
  },
  {
   "cell_type": "code",
   "execution_count": null,
   "id": "b2193100-713f-4124-810b-0343115b6214",
   "metadata": {},
   "outputs": [],
   "source": [
    "# Imputation strategies taken from here: https://www.kaggle.com/code/gunesevitan/titanic-advanced-feature-engineering-tutorial?scriptVersionId=27280410\n",
    "def impute(df):\n",
    "    df['Age'] = df.groupby(['Pclass', 'Sex'])['Age'].transform(lambda x: x.fillna(x.median())) # group by class & sex as there is variation along both\n",
    "    df['Embarked'] = df['Embarked'].fillna('S') # Googling the names of the people here lets us find out where they embarked from\n",
    "    \n",
    "    # Filling the missing value in Fare with the median Fare of 3rd class alone passenger\n",
    "    med_fare = df.groupby(['Pclass', 'Parch', 'SibSp']).Fare.median()[3][0][0]\n",
    "    df['Fare'] = df['Fare'].fillna(med_fare)\n",
    "\n",
    "    # Dropping unuseful categories\n",
    "    df = df.drop(['Name'], axis=1)\n",
    "    df = df.drop(['Ticket'], axis=1) # This also could be useful given ticket num might relate to location in the ship? Need to look into\n",
    "\n",
    "    # Anything remaining I either haven't looked at closely yet or is well-suited for a simple 0/\"None\" imputation\n",
    "    for name in df.select_dtypes(\"number\"):\n",
    "        df[name] = df[name].fillna(0)\n",
    "    for name in df.select_dtypes(\"category\"):\n",
    "        df[name] = df[name].fillna(\"None\")\n",
    "    return df"
   ]
  },
  {
   "cell_type": "markdown",
   "id": "460b512a-c41b-4fc7-aa36-6e19d491cc61",
   "metadata": {},
   "source": [
    "## Deal With The Cabin ##"
   ]
  },
  {
   "cell_type": "code",
   "execution_count": null,
   "id": "193a2ef8-b2b6-448a-a3db-beb2ba278f36",
   "metadata": {},
   "outputs": [],
   "source": [
    "def deal_with_cabin(df):\n",
    "    df['Cabin_Letter'] = df['Cabin'].astype(str).str[0]\n",
    "    df = df.drop(['Cabin'], axis=1)\n",
    "    df['Cabin_Letter'] = df['Cabin_Letter'].replace(['A', 'B', 'C', 'T'], 'ABCT') # Based on analysis, 3 distinct groups. ABCT are 1st-class only\n",
    "    df['Cabin_Letter'] = df['Cabin_Letter'].replace(['D', 'E'], 'DE') # Mixed classes, though leaning towards 1st\n",
    "    df['Cabin_Letter'] = df['Cabin_Letter'].replace(['F', 'G'], 'FG') # G is entirely 3rd class, F is middling between 3rd & 2nd\n",
    "    return df"
   ]
  },
  {
   "cell_type": "markdown",
   "id": "53bf9f05-c3d4-488b-8b7b-86ffca8d4737",
   "metadata": {},
   "source": [
    "## Load Data & Analyse ##"
   ]
  },
  {
   "cell_type": "code",
   "execution_count": null,
   "id": "de727212-7007-41ba-9c8f-d18a781b8c2f",
   "metadata": {},
   "outputs": [],
   "source": [
    "df_train, df_test = load_data()\n",
    "X_train = df_train.copy()\n",
    "X_test = df_test.copy()\n",
    "y_train = X_train.pop(\"Survived\")\n",
    "X_train.head()"
   ]
  },
  {
   "cell_type": "code",
   "execution_count": null,
   "id": "674bffe6-18ad-4553-81fb-0f5f1ce3a1a6",
   "metadata": {},
   "outputs": [],
   "source": [
    "# These charts are currently broken as I have now encoded Cabin_Letter before getting here\n",
    "#X_train['Cabin_Letter'].value_counts() # Only one person in cabin T\n",
    "#sns.barplot(x=X_train['Cabin_Letter'], y=X_train['Pclass'], hue=y_train) # ABC & T contain ONLY 1st class passengers, and G only contains 3rd class passengers. \n",
    "#plt.show()                                                               # DE has a higher ratio of survival, FG & n have lower ratios of survival. ABCT is evenly split.\n",
    "\n",
    "\n",
    "#fig, axs = plt.subplots(figsize=(22, 9))\n",
    "#sns.countplot(x=X_train['Fare'], hue=y_train) # Much better, very clear correlation between fare & survivability\n",
    "#plt.show()"
   ]
  },
  {
   "cell_type": "code",
   "execution_count": null,
   "id": "f295c9b6-821c-4813-afaa-016edc88c98f",
   "metadata": {},
   "outputs": [],
   "source": [
    "from sklearn.linear_model import LogisticRegression # For binary classification\n",
    "\n",
    "clf = LogisticRegression()\n",
    "clf.fit(X_train, y_train.ravel())\n",
    "\n",
    "print(clf.score(X_train, y_train))"
   ]
  },
  {
   "cell_type": "code",
   "execution_count": null,
   "id": "ddddb9c0-541b-4ce9-a10c-cc62eb7fa7b5",
   "metadata": {},
   "outputs": [],
   "source": [
    "predictions = clf.predict(X_test)\n",
    "submission = pd.DataFrame({'PassengerId' : X_test.index, 'Survived': predictions })\n",
    "print(submission.head())"
   ]
  },
  {
   "cell_type": "code",
   "execution_count": null,
   "id": "8fafe71d-b7d1-4a65-a08e-e2668b6ed11c",
   "metadata": {},
   "outputs": [],
   "source": [
    "filename= 'titanic predictions.csv'\n",
    "submission.to_csv(filename, index=False)\n",
    "print(\"Submission created!\")"
   ]
  },
  {
   "cell_type": "code",
   "execution_count": null,
   "id": "98f774e3-c543-4d5e-ae03-84e7c587c245",
   "metadata": {},
   "outputs": [],
   "source": []
  }
 ],
 "metadata": {
  "kernelspec": {
   "display_name": "Python 3 (ipykernel)",
   "language": "python",
   "name": "python3"
  },
  "language_info": {
   "codemirror_mode": {
    "name": "ipython",
    "version": 3
   },
   "file_extension": ".py",
   "mimetype": "text/x-python",
   "name": "python",
   "nbconvert_exporter": "python",
   "pygments_lexer": "ipython3",
   "version": "3.13.3"
  }
 },
 "nbformat": 4,
 "nbformat_minor": 5
}
